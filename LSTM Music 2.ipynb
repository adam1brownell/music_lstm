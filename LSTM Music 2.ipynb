{
 "cells": [
  {
   "cell_type": "code",
   "execution_count": 3,
   "metadata": {},
   "outputs": [],
   "source": [
    "import mido\n",
    "from mido import MidiFile, MidiTrack, Message\n",
    "from keras.layers import LSTM, Dense, Activation, Dropout, Flatten\n",
    "from keras.preprocessing import sequence\n",
    "from keras.models import Sequential\n",
    "from keras.optimizers import Adam\n",
    "from keras.callbacks import ModelCheckpoint\n",
    "import numpy as np"
   ]
  },
  {
   "cell_type": "code",
   "execution_count": 1,
   "metadata": {},
   "outputs": [
    {
     "name": "stdout",
     "output_type": "stream",
     "text": [
      "Collecting keras==2.1.1\n",
      "\u001b[?25l  Downloading https://files.pythonhosted.org/packages/e1/49/decea3cbcfc08bd6b2105c5793d958ea159d07f2b43e45a00afe2b35633d/Keras-2.1.1-py2.py3-none-any.whl (302kB)\n",
      "\u001b[K    100% |████████████████████████████████| 307kB 7.0MB/s ta 0:00:011\n",
      "\u001b[?25hRequirement already satisfied: six>=1.9.0 in /anaconda3/lib/python3.6/site-packages (from keras==2.1.1) (1.11.0)\n",
      "Requirement already satisfied: scipy>=0.14 in /anaconda3/lib/python3.6/site-packages (from keras==2.1.1) (1.1.0)\n",
      "Requirement already satisfied: pyyaml in /anaconda3/lib/python3.6/site-packages (from keras==2.1.1) (3.12)\n",
      "Requirement already satisfied: numpy>=1.9.1 in /anaconda3/lib/python3.6/site-packages (from keras==2.1.1) (1.14.3)\n",
      "\u001b[31mkeras-preprocessing 1.0.2 has requirement keras>=2.1.6, but you'll have keras 2.1.1 which is incompatible.\u001b[0m\n",
      "\u001b[31mkeras-applications 1.0.4 has requirement keras>=2.1.6, but you'll have keras 2.1.1 which is incompatible.\u001b[0m\n",
      "Installing collected packages: keras\n",
      "  Found existing installation: Keras 2.2.1\n",
      "    Uninstalling Keras-2.2.1:\n",
      "      Successfully uninstalled Keras-2.2.1\n",
      "Successfully installed keras-2.1.1\n",
      "\u001b[33mYou are using pip version 18.1, however version 19.0.3 is available.\n",
      "You should consider upgrading via the 'pip install --upgrade pip' command.\u001b[0m\n"
     ]
    }
   ],
   "source": [
    "!pip install keras==2.1.1"
   ]
  },
  {
   "cell_type": "code",
   "execution_count": 2,
   "metadata": {},
   "outputs": [
    {
     "name": "stderr",
     "output_type": "stream",
     "text": [
      "/anaconda3/lib/python3.6/site-packages/h5py/__init__.py:36: FutureWarning: Conversion of the second argument of issubdtype from `float` to `np.floating` is deprecated. In future, it will be treated as `np.float64 == np.dtype(float).type`.\n",
      "  from ._conv import register_converters as _register_converters\n",
      "Using TensorFlow backend.\n"
     ]
    }
   ],
   "source": [
    "import pkg_resources\n",
    "pkg_resources.require('keras==2.1.1')\n",
    "import keras"
   ]
  },
  {
   "cell_type": "code",
   "execution_count": 5,
   "metadata": {},
   "outputs": [
    {
     "data": {
      "text/plain": [
       "['Ff7-Jenova_Absolute.mid',\n",
       " 'FF8_Shuffle_or_boogie_pc.mid',\n",
       " 'ahead_on_our_way_piano.mid',\n",
       " 'balamb.mid',\n",
       " 'DOS.mid',\n",
       " 'FF3_Battle_(Piano).mid',\n",
       " 'Suteki_Da_Ne_(Piano_Version).mid',\n",
       " 'caitsith.mid',\n",
       " 'sera_.mid',\n",
       " 'Oppressed.mid',\n",
       " 'ff4-airship.mid',\n",
       " 'ff7themep.mid',\n",
       " 'FFVII_BATTLE.mid',\n",
       " 'electric_de_chocobo.mid',\n",
       " 'Ff7-One_Winged.mid',\n",
       " 'Finalfantasy5gilgameshp.mid',\n",
       " 'Cids.mid',\n",
       " 'lurk_in_dark.mid',\n",
       " 'FFX_-_Ending_Theme_(Piano_Version)_-_by_Angel_FF.mid',\n",
       " 'ff4pclov.mid',\n",
       " 'AT.mid',\n",
       " 'Final_Fantasy_7_-_Judgement_Day_Piano.mid',\n",
       " '8.mid',\n",
       " 'sobf.mid',\n",
       " 'In_Zanarkand.mid',\n",
       " 'waltz_de_choco.mid',\n",
       " 'z_aeristhemepiano.mid',\n",
       " 'Final_Fantasy_Matouyas_Cave_Piano.mid',\n",
       " 'redwings.mid',\n",
       " 'roseofmay-piano.mid',\n",
       " 'ff4_piano_collections-main_theme.mid',\n",
       " 'dontbeafraid.mid',\n",
       " 'dayafter.mid',\n",
       " 'FF6epitaph_piano.mid',\n",
       " 'FFIX_Piano.mid',\n",
       " 'FFIII_Edgar_And_Sabin_Piano.mid',\n",
       " 'ultros.mid',\n",
       " '0fithos.mid',\n",
       " 'BlueStone_LastDungeon.mid',\n",
       " 'ff8-lfp.mid',\n",
       " 'rufus.mid',\n",
       " 'ff4-fight1.mid',\n",
       " 'Life_Stream.mid',\n",
       " 'Zelda_Overworld.mid',\n",
       " 'JENOVA.mid',\n",
       " 'thenightmarebegins.mid',\n",
       " 'FF4.mid',\n",
       " 'figaro.mid',\n",
       " 'Fiend_Battle_(Piano).mid',\n",
       " 'cosmo.mid',\n",
       " 'Kingdom_Hearts_Dearly_Beloved.mid',\n",
       " 'pkelite4.mid',\n",
       " 'tifap.mid',\n",
       " 'Nintendo_-_Pokemon_Fire_Red_Route_1_Piano_Cover_Hard_Version.mid',\n",
       " 'relmstheme-piano.mid',\n",
       " 'ff11_awakening_piano.mid',\n",
       " 'ff7-mainmidi.mid',\n",
       " 'ff6shap.mid',\n",
       " 'gerudo.mid',\n",
       " 'OTD5YA.mid',\n",
       " 'Rydia_pc.mid',\n",
       " 'ultimafro.mid',\n",
       " 'Ff4-BattleLust.mid',\n",
       " 'great_war.mid',\n",
       " 'tpirtsd-piano.mid',\n",
       " 'goldsaucer.mid',\n",
       " 'ViviinAlexandria.mid',\n",
       " 'EyesOnMePiano.mid',\n",
       " 'fortresscondor.mid',\n",
       " '.ipynb_checkpoints',\n",
       " 'Still_Alive-1.mid',\n",
       " 'Fyw_piano.mid',\n",
       " 'VincentPiano.mid',\n",
       " 'thoughts.mid',\n",
       " 'Ff7-Cinco.mid',\n",
       " 'sandy.mid',\n",
       " 'costadsol.mid',\n",
       " 'path_of_repentance.mid',\n",
       " 'ff4-town.mid',\n",
       " 'mining.mid',\n",
       " 'decisive.mid',\n",
       " 'Kingdom_Hearts_Traverse_Town.mid',\n",
       " 'braska.mid',\n",
       " 'HighwindTakestotheSkies.mid',\n",
       " 'Gold_Silver_Rival_Battle.mid',\n",
       " 'Fierce_Battle_(Piano).mid',\n",
       " 'Rachel_Piano_tempofix.mid',\n",
       " 'FF3_Third_Phase_Final_(Piano).mid',\n",
       " 'Eternal_Harvest.mid',\n",
       " 'ff1battp.mid',\n",
       " 'Finalfantasy6fanfarecomplete.mid',\n",
       " 'FFIXQuMarshP.mid',\n",
       " 'bcm.mid',\n",
       " 'traitor.mid']"
      ]
     },
     "execution_count": 5,
     "metadata": {},
     "output_type": "execute_result"
    }
   ],
   "source": [
    "import os\n",
    "os.listdir(os.getcwd()+'/midi_songs')"
   ]
  },
  {
   "cell_type": "code",
   "execution_count": 6,
   "metadata": {},
   "outputs": [],
   "source": [
    "mid = MidiFile('midi_songs/'+'Nintendo_-_Pokemon_Fire_Red_Route_1_Piano_Cover_Hard_Version.mid') \n",
    "notes = []\n",
    "velocities = []"
   ]
  },
  {
   "cell_type": "code",
   "execution_count": 7,
   "metadata": {},
   "outputs": [],
   "source": [
    "for msg in mid:\n",
    "    if not msg.is_meta:\n",
    "        if msg.channel == 0:\n",
    "            if msg.type == 'note_on':\n",
    "                data = msg.bytes()\n",
    "                # append note and velocity from [type, note, velocity]\n",
    "                note = data[1]\n",
    "                velocity = data[2]\n",
    "                notes.append(note)\n",
    "                velocities.append(velocity)\n",
    "combine = [[i,j] for i,j in zip(notes, velocities) ]"
   ]
  },
  {
   "cell_type": "code",
   "execution_count": 8,
   "metadata": {},
   "outputs": [],
   "source": [
    "note_min = np.min(notes)\n",
    "note_max = np.max(notes)\n",
    "velocities_min = np.min(velocities)\n",
    "velocities_max = np.max(velocities)\n",
    "\n",
    "for note in combine:\n",
    "    note[0] = 2*(note[0]-((note_min+note_max)/2))/(note_max-note_min)"
   ]
  },
  {
   "cell_type": "code",
   "execution_count": 9,
   "metadata": {},
   "outputs": [],
   "source": [
    "X = []\n",
    "Y = []\n",
    "n_prev = 30\n",
    "for i in range(len(combine)-n_prev):\n",
    "    x = combine[i:i+n_prev]\n",
    "    y = combine[i+n_prev]\n",
    "    X.append(x)\n",
    "    Y.append(y)\n",
    "# save a seed to do prediction later\n",
    "seed = combine[0:n_prev]"
   ]
  },
  {
   "cell_type": "code",
   "execution_count": 10,
   "metadata": {},
   "outputs": [],
   "source": [
    "model = Sequential()\n",
    "model.add(LSTM(256, input_shape=(n_prev, 2), return_sequences=True))\n",
    "model.add(Dropout(0.6))\n",
    "model.add(LSTM(128, input_shape=(n_prev, 2), return_sequences=True))\n",
    "model.add(Dropout(0.6))\n",
    "model.add(LSTM(64, input_shape=(n_prev, 2), return_sequences=False))\n",
    "model.add(Dropout(0.6))\n",
    "model.add(Dense(2))\n",
    "model.add(Activation('linear'))\n",
    "optimizer = Adam(lr=0.001)\n",
    "model.compile(loss='mse', optimizer=optimizer)\n",
    "filepath=\"weights/weights-improvement-2-{loss:.4f}-bigger.hdf5\"  \n",
    "model_save_callback = ModelCheckpoint(filepath, monitor='val_acc', \n",
    "                                      verbose=1, save_best_only=False, \n",
    "                                      mode='auto', period=5)"
   ]
  },
  {
   "cell_type": "code",
   "execution_count": 11,
   "metadata": {},
   "outputs": [
    {
     "name": "stdout",
     "output_type": "stream",
     "text": [
      "Epoch 1/5\n",
      "13070/13070 [==============================] - 38s 3ms/step - loss: 1080.2166\n",
      "Epoch 2/5\n",
      "13070/13070 [==============================] - 36s 3ms/step - loss: 354.3590\n",
      "Epoch 3/5\n",
      "13070/13070 [==============================] - 35s 3ms/step - loss: 115.8362\n",
      "Epoch 4/5\n",
      "13070/13070 [==============================] - 34s 3ms/step - loss: 59.9017\n",
      "Epoch 5/5\n",
      "13070/13070 [==============================] - 34s 3ms/step - loss: 50.9801\n"
     ]
    },
    {
     "data": {
      "text/plain": [
       "<keras.callbacks.History at 0xb21f1c978>"
      ]
     },
     "execution_count": 11,
     "metadata": {},
     "output_type": "execute_result"
    }
   ],
   "source": [
    "model.fit(np.array(X), np.array(Y), 32, 5, verbose=1) #callbacks=[model_save_callback])"
   ]
  },
  {
   "cell_type": "code",
   "execution_count": 12,
   "metadata": {},
   "outputs": [],
   "source": [
    "prediction = []\n",
    "x = np.expand_dims(seed, axis=0)\n",
    "\n",
    "for i in range(300):\n",
    "    preds = model.predict(x)\n",
    "    x = np.squeeze(x)\n",
    "    x = np.concatenate((x, preds))\n",
    "    x = x[1:]\n",
    "    x = np.expand_dims(x, axis=0)\n",
    "    preds = np.squeeze(preds)\n",
    "    prediction.append(preds)"
   ]
  },
  {
   "cell_type": "code",
   "execution_count": 13,
   "metadata": {},
   "outputs": [],
   "source": [
    "for pred in prediction:\n",
    "# Undo the preprocessing\n",
    "    pred[0] = int((pred[0]/2)*(note_max-note_min) + (note_min+note_max)/2)\n",
    "    pred[1] = int((pred[1]/2)*(velocities_max-velocities_min) + (velocities_min+velocities_max)/2)\n",
    "    if pred[0] < 24:\n",
    "        pred[0] = 24\n",
    "    elif pred[0] > 102:\n",
    "        pred[0] = 102\n",
    "    if pred[1] < 0:\n",
    "        pred[1] = 0\n",
    "    elif pred[1] > 127:\n",
    "        pred[1] = 127"
   ]
  },
  {
   "cell_type": "code",
   "execution_count": 14,
   "metadata": {},
   "outputs": [],
   "source": [
    "mid = MidiFile()\n",
    "track = MidiTrack()\n",
    "\n",
    "t = 0\n",
    "for note in prediction:\n",
    "    # 147 means note_on\n",
    "    note = np.asarray([147, note[0], note[1]])\n",
    "    bytes = note.astype(int)\n",
    "    msg = Message.from_bytes(bytes[0:3])\n",
    "    t += 1\n",
    "    msg.time = t\n",
    "    track.append(msg)\n",
    "\n",
    "mid.tracks.append(track)\n",
    "mid.save('Generated_song_epoch=5.mid')"
   ]
  },
  {
   "cell_type": "code",
   "execution_count": 73,
   "metadata": {},
   "outputs": [],
   "source": [
    "import matplotlib.pyplot as plt\n",
    "\n",
    "\n",
    "FUNDS = 85000\n",
    "TOTAL = 500000\n",
    "\n",
    "# fig, ax = plt.subplots(111)\n",
    "# ax.bar([0],[TOTAL], color='grey')\n",
    "# ax.bar([0],[FUNDS], color='red')\n",
    "\n",
    "# ax.show()"
   ]
  },
  {
   "cell_type": "code",
   "execution_count": 74,
   "metadata": {},
   "outputs": [
    {
     "data": {
      "image/png": "[encoded data removed]",
      "text/plain": [
       "<Figure size 432x288 with 1 Axes>"
      ]
     },
     "metadata": {},
     "output_type": "display_data"
    }
   ],
   "source": [
    "fig, ax = plt.subplots()\n",
    "\n",
    "hfont = {'fontname':'Helvetica'}\n",
    "\n",
    "ax.bar([0],[TOTAL], color='#DBE4E8')\n",
    "ax.bar([0],[FUNDS], color='#BD10E0')\n",
    "ax.spines['top'].set_visible(False)\n",
    "ax.spines['right'].set_visible(False)\n",
    "ax.spines['bottom'].set_visible(False)\n",
    "ax.spines['left'].set_visible(False)\n",
    "plt.title('Q2 Sales Temperature', color='#214F62', fontname='Verdana',fontsize=20)\n",
    "plt.text(-0.07, TOTAL/2, str(round(100*FUNDS/TOTAL))+'%!', fontsize=30, color='#6297AB')\n",
    "\n",
    "ax.get_xaxis().set_ticks([])\n",
    "ax.get_yaxis().set_ticks([0,FUNDS,TOTAL])\n",
    "ax.tick_params(axis='y', colors='#214F62')"
   ]
  },
  {
   "cell_type": "code",
   "execution_count": 17,
   "metadata": {},
   "outputs": [
    {
     "data": {
      "text/plain": [
       "<matplotlib.axes._subplots.AxesSubplot at 0x11f1db630>"
      ]
     },
     "execution_count": 17,
     "metadata": {},
     "output_type": "execute_result"
    }
   ],
   "source": []
  },
  {
   "cell_type": "code",
   "execution_count": null,
   "metadata": {},
   "outputs": [],
   "source": []
  }
 ],
 "metadata": {
  "kernelspec": {
   "display_name": "Python 3",
   "language": "python",
   "name": "python3"
  },
  "language_info": {
   "codemirror_mode": {
    "name": "ipython",
    "version": 3
   },
   "file_extension": ".py",
   "mimetype": "text/x-python",
   "name": "python",
   "nbconvert_exporter": "python",
   "pygments_lexer": "ipython3",
   "version": "3.6.5"
  }
 },
 "nbformat": 4,
 "nbformat_minor": 2
}
